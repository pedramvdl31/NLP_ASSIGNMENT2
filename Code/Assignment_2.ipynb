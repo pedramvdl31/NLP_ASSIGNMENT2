{
  "nbformat": 4,
  "nbformat_minor": 0,
  "metadata": {
    "colab": {
      "name": "Assignment-2.ipynb",
      "provenance": [],
      "collapsed_sections": [],
      "toc_visible": true
    },
    "kernelspec": {
      "name": "python3",
      "display_name": "Python 3"
    },
    "accelerator": "GPU"
  },
  "cells": [
    {
      "cell_type": "markdown",
      "metadata": {
        "id": "sEphgQbCeC0e",
        "colab_type": "text"
      },
      "source": [
        "**Importing Libraries**"
      ]
    },
    {
      "cell_type": "code",
      "metadata": {
        "id": "RNXuTPwqMjAQ",
        "colab_type": "code",
        "colab": {
          "base_uri": "https://localhost:8080/",
          "height": 80
        },
        "outputId": "b253718b-727a-4c18-cbb1-5ee194174fe2"
      },
      "source": [
        "import pandas as pd\n",
        "import numpy as np\n",
        "\n",
        "from sklearn.model_selection import train_test_split\n",
        "from sklearn.feature_extraction.text import CountVectorizer, TfidfVectorizer\n",
        "\n",
        "from keras.preprocessing.text import Tokenizer\n",
        "from keras.preprocessing.sequence import pad_sequences\n",
        "from keras.utils import to_categorical\n",
        "\n",
        "from keras.layers import Dense, Input, GlobalMaxPooling1D\n",
        "from keras.layers import Conv1D, MaxPooling1D, Embedding\n",
        "from keras.models import Model\n",
        "from keras.layers import Input, Dense, Embedding, Conv2D, MaxPooling2D, Dropout,concatenate\n",
        "from keras.layers.core import Reshape, Flatten\n",
        "from keras.callbacks import EarlyStopping\n",
        "from keras.optimizers import Adam\n",
        "from keras.models import Model\n",
        "from keras import regularizers\n",
        "from keras.layers import Embedding\n",
        "from keras import backend as K\n",
        "from keras.callbacks import ModelCheckpoint\n",
        "from keras.callbacks import CSVLogger\n",
        "from keras import metrics\n",
        "\n",
        "#FOR TA TO LOAD MODEL :)\n",
        "from keras.models import load_model\n",
        "\n",
        "import gensim\n",
        "from gensim.models import Word2Vec\n",
        "from gensim.utils import simple_preprocess\n",
        "from gensim.models.keyedvectors import KeyedVectors"
      ],
      "execution_count": 1,
      "outputs": [
        {
          "output_type": "stream",
          "text": [
            "Using TensorFlow backend.\n"
          ],
          "name": "stderr"
        },
        {
          "output_type": "display_data",
          "data": {
            "text/html": [
              "<p style=\"color: red;\">\n",
              "The default version of TensorFlow in Colab will soon switch to TensorFlow 2.x.<br>\n",
              "We recommend you <a href=\"https://www.tensorflow.org/guide/migrate\" target=\"_blank\">upgrade</a> now \n",
              "or ensure your notebook will continue to use TensorFlow 1.x via the <code>%tensorflow_version 1.x</code> magic:\n",
              "<a href=\"https://colab.research.google.com/notebooks/tensorflow_version.ipynb\" target=\"_blank\">more info</a>.</p>\n"
            ],
            "text/plain": [
              "<IPython.core.display.HTML object>"
            ]
          },
          "metadata": {
            "tags": []
          }
        }
      ]
    },
    {
      "cell_type": "markdown",
      "metadata": {
        "id": "xOsRivxSlQS7",
        "colab_type": "text"
      },
      "source": [
        "Declaring performance evaluation metrics"
      ]
    },
    {
      "cell_type": "markdown",
      "metadata": {
        "id": "u4bPcaXKfW2k",
        "colab_type": "text"
      },
      "source": [
        "Reading Google WordtoVec Model. It is 1.5 GB and takes some time (about 5 minutes)"
      ]
    },
    {
      "cell_type": "code",
      "metadata": {
        "id": "I2WJ26HYH3QV",
        "colab_type": "code",
        "outputId": "9972951c-7e0c-4b64-c5c1-9f70d3572e81",
        "colab": {
          "base_uri": "https://localhost:8080/",
          "height": 71
        }
      },
      "source": [
        "word_vectors = KeyedVectors.load_word2vec_format('https://s3.amazonaws.com/dl4j-distribution/GoogleNews-vectors-negative300.bin.gz', binary=True)"
      ],
      "execution_count": 2,
      "outputs": [
        {
          "output_type": "stream",
          "text": [
            "/usr/local/lib/python3.6/dist-packages/smart_open/smart_open_lib.py:410: UserWarning: This function is deprecated, use smart_open.open instead. See the migration notes for details: https://github.com/RaRe-Technologies/smart_open/blob/master/README.rst#migrating-to-the-new-open-function\n",
            "  'See the migration notes for details: %s' % _MIGRATION_NOTES_URL\n"
          ],
          "name": "stderr"
        }
      ]
    },
    {
      "cell_type": "markdown",
      "metadata": {
        "id": "jirk54Fgz4FN",
        "colab_type": "text"
      },
      "source": [
        "**config Cell**"
      ]
    },
    {
      "cell_type": "code",
      "metadata": {
        "id": "jWS0NG6TzgcD",
        "colab_type": "code",
        "colab": {}
      },
      "source": [
        "conf = {\n",
        "    'EMB_DIM':300,\n",
        "    'WordsTake':20000,\n",
        "    'activationType':'relu',\n",
        "    'epochNum':200\n",
        "}"
      ],
      "execution_count": 0,
      "outputs": []
    },
    {
      "cell_type": "markdown",
      "metadata": {
        "id": "6x3cE2r4eRmV",
        "colab_type": "text"
      },
      "source": [
        "**Loading train.tsv**\n",
        "Loading the entire dataset into rawdata variable.\n",
        "Drop the first two columns such as ids and sentimentid which aren't sueful for our model"
      ]
    },
    {
      "cell_type": "code",
      "metadata": {
        "id": "dhoAhIINsOuG",
        "colab_type": "code",
        "outputId": "f36a10ad-5092-47eb-f19b-e8d1e32186d8",
        "colab": {
          "base_uri": "https://localhost:8080/",
          "height": 204
        }
      },
      "source": [
        "rawdata = pd.read_csv('/content/drive/My Drive/Desktop/NLP Assignment 2/train.tsv', sep='\\t', header=0)\n",
        "\n",
        "dataset = pd.DataFrame(rawdata,columns=['Phrase','Sentiment'])\n",
        "\n",
        "dataset.head()"
      ],
      "execution_count": 21,
      "outputs": [
        {
          "output_type": "execute_result",
          "data": {
            "text/html": [
              "<div>\n",
              "<style scoped>\n",
              "    .dataframe tbody tr th:only-of-type {\n",
              "        vertical-align: middle;\n",
              "    }\n",
              "\n",
              "    .dataframe tbody tr th {\n",
              "        vertical-align: top;\n",
              "    }\n",
              "\n",
              "    .dataframe thead th {\n",
              "        text-align: right;\n",
              "    }\n",
              "</style>\n",
              "<table border=\"1\" class=\"dataframe\">\n",
              "  <thead>\n",
              "    <tr style=\"text-align: right;\">\n",
              "      <th></th>\n",
              "      <th>Phrase</th>\n",
              "      <th>Sentiment</th>\n",
              "    </tr>\n",
              "  </thead>\n",
              "  <tbody>\n",
              "    <tr>\n",
              "      <th>0</th>\n",
              "      <td>A series of escapades demonstrating the adage ...</td>\n",
              "      <td>1</td>\n",
              "    </tr>\n",
              "    <tr>\n",
              "      <th>1</th>\n",
              "      <td>A series of escapades demonstrating the adage ...</td>\n",
              "      <td>2</td>\n",
              "    </tr>\n",
              "    <tr>\n",
              "      <th>2</th>\n",
              "      <td>A series</td>\n",
              "      <td>2</td>\n",
              "    </tr>\n",
              "    <tr>\n",
              "      <th>3</th>\n",
              "      <td>A</td>\n",
              "      <td>2</td>\n",
              "    </tr>\n",
              "    <tr>\n",
              "      <th>4</th>\n",
              "      <td>series</td>\n",
              "      <td>2</td>\n",
              "    </tr>\n",
              "  </tbody>\n",
              "</table>\n",
              "</div>"
            ],
            "text/plain": [
              "                                              Phrase  Sentiment\n",
              "0  A series of escapades demonstrating the adage ...          1\n",
              "1  A series of escapades demonstrating the adage ...          2\n",
              "2                                           A series          2\n",
              "3                                                  A          2\n",
              "4                                             series          2"
            ]
          },
          "metadata": {
            "tags": []
          },
          "execution_count": 21
        }
      ]
    },
    {
      "cell_type": "code",
      "metadata": {
        "id": "hc08b5XYsJ41",
        "colab_type": "code",
        "colab": {}
      },
      "source": [
        ""
      ],
      "execution_count": 0,
      "outputs": []
    },
    {
      "cell_type": "markdown",
      "metadata": {
        "id": "vgcDDoxSjkhW",
        "colab_type": "text"
      },
      "source": [
        "Spliting the dataset into x and y that are phrase and sentiments.\n",
        "Using sklearn to split the data into traning and testing sets."
      ]
    },
    {
      "cell_type": "code",
      "metadata": {
        "id": "oBUYxLsFhbHq",
        "colab_type": "code",
        "colab": {}
      },
      "source": [
        "dataset = dataset.dropna()\n",
        "\n",
        "x = pd.DataFrame(rawdata,columns=['Phrase'])\n",
        "y = pd.DataFrame(rawdata,columns=['Sentiment'])"
      ],
      "execution_count": 0,
      "outputs": []
    },
    {
      "cell_type": "markdown",
      "metadata": {
        "id": "A-fE4PHjXcSb",
        "colab_type": "text"
      },
      "source": [
        "Processing the dataset. Vercotization and removal of stop words"
      ]
    },
    {
      "cell_type": "code",
      "metadata": {
        "id": "NAZ8Eg71SONr",
        "colab_type": "code",
        "colab": {}
      },
      "source": [
        "polarities=dataset.Sentiment.unique()\n",
        "# dic={'very negative','negative','neutral','positive','very positive'}\n",
        "dic={}\n",
        "for i,polarity in enumerate(polarities):\n",
        "    dic[polarity]=i\n",
        "labels=dataset.Sentiment.apply(lambda x:dic[x])"
      ],
      "execution_count": 0,
      "outputs": []
    },
    {
      "cell_type": "markdown",
      "metadata": {
        "id": "JAwc-L0ky_iQ",
        "colab_type": "text"
      },
      "source": [
        "Splliting the dataset using sklearn.model_selection"
      ]
    },
    {
      "cell_type": "code",
      "metadata": {
        "id": "SRVSUP76TcqN",
        "colab_type": "code",
        "colab": {}
      },
      "source": [
        "#Spliting\n",
        "_x_train, _x_test, _y_train, _y_test = train_test_split(x, y, test_size=0.3, random_state=2003)"
      ],
      "execution_count": 0,
      "outputs": []
    },
    {
      "cell_type": "code",
      "metadata": {
        "id": "tPTcsvwNTo7H",
        "colab_type": "code",
        "outputId": "27c25a94-d2ea-460a-91f7-14fdd0f2ff7c",
        "colab": {
          "base_uri": "https://localhost:8080/",
          "height": 34
        }
      },
      "source": [
        "\n",
        "tokenizer = Tokenizer(num_words=conf['WordsTake'],filters='!\"#$%&()*+,-./:;<=>?@[\\\\]^_`{|}~\\t\\n\\'',\n",
        "                      lower=True)\n",
        "tokenizer.fit_on_texts(_x_train.Phrase)\n",
        "\n",
        "sequences_train = tokenizer.texts_to_sequences(_x_train.Phrase)\n",
        "sequences_valid=tokenizer.texts_to_sequences(_x_test.Phrase)\n",
        "word_index = tokenizer.word_index\n",
        "print('Found %s unique tokens.' % len(word_index))"
      ],
      "execution_count": 8,
      "outputs": [
        {
          "output_type": "stream",
          "text": [
            "Found 15252 unique tokens.\n"
          ],
          "name": "stdout"
        }
      ]
    },
    {
      "cell_type": "code",
      "metadata": {
        "id": "xz3w8knCXOgl",
        "colab_type": "code",
        "outputId": "af0d4feb-7eda-4bb7-859e-68fa0b0d66e7",
        "colab": {
          "base_uri": "https://localhost:8080/",
          "height": 51
        }
      },
      "source": [
        "X_train = pad_sequences(sequences_train)\n",
        "X_val = pad_sequences(sequences_valid,maxlen=X_train.shape[1])\n",
        "y_train = to_categorical(np.asarray(labels[_x_train.index]))\n",
        "y_val = to_categorical(np.asarray(labels[_x_test.index]))\n",
        "print('Shape of X train and X validation tensor:', X_train.shape,X_val.shape)\n",
        "print('Shape of label train and validation tensor:', y_train.shape,y_val.shape)"
      ],
      "execution_count": 9,
      "outputs": [
        {
          "output_type": "stream",
          "text": [
            "Shape of X train and X validation tensor: (109242, 48) (46818, 48)\n",
            "Shape of label train and validation tensor: (109242, 5) (46818, 5)\n"
          ],
          "name": "stdout"
        }
      ]
    },
    {
      "cell_type": "code",
      "metadata": {
        "id": "Kj9VM4IYYNde",
        "colab_type": "code",
        "outputId": "57ed8474-d4c3-4ae9-803f-27208163409a",
        "colab": {
          "base_uri": "https://localhost:8080/",
          "height": 71
        }
      },
      "source": [
        "\n",
        "vocabulary_size=min(len(word_index)+1,conf['WordsTake'])\n",
        "embedding_matrix = np.zeros((vocabulary_size, conf['EMB_DIM']))\n",
        "for word, i in word_index.items():\n",
        "    if i>=conf['WordsTake']:\n",
        "        continue\n",
        "    try:\n",
        "        embedding_vector = word_vectors[word]\n",
        "        embedding_matrix[i] = embedding_vector\n",
        "    except KeyError:\n",
        "        embedding_matrix[i]=np.random.normal(0,np.sqrt(0.25),conf['EMB_DIM'])\n",
        "\n",
        "del(word_vectors)\n",
        "\n",
        "from keras.layers import Embedding\n",
        "embedding_layer = Embedding(vocabulary_size,\n",
        "                            conf['EMB_DIM'],\n",
        "                            weights=[embedding_matrix],\n",
        "                            trainable=True)"
      ],
      "execution_count": 10,
      "outputs": [
        {
          "output_type": "stream",
          "text": [
            "WARNING:tensorflow:From /usr/local/lib/python3.6/dist-packages/keras/backend/tensorflow_backend.py:66: The name tf.get_default_graph is deprecated. Please use tf.compat.v1.get_default_graph instead.\n",
            "\n"
          ],
          "name": "stdout"
        }
      ]
    },
    {
      "cell_type": "code",
      "metadata": {
        "id": "n51QOeoidhWf",
        "colab_type": "code",
        "colab": {}
      },
      "source": [
        "vocabulary_size=min(len(word_index)+1,conf['WordsTake'])\n",
        "\n",
        "embedding_layer = Embedding(vocabulary_size,\n",
        "                            conf['EMB_DIM'])"
      ],
      "execution_count": 0,
      "outputs": []
    },
    {
      "cell_type": "code",
      "metadata": {
        "id": "1SMncbwhdwPo",
        "colab_type": "code",
        "colab": {}
      },
      "source": [
        "def cnnModel(act):\n",
        "  sequence_length = X_train.shape[1]\n",
        "  filter_sizes = [3,4,5]\n",
        "  num_filters = 100\n",
        "  drop = 0.5\n",
        "\n",
        "  inputs = Input(shape=(sequence_length,))\n",
        "  embedding = embedding_layer(inputs)\n",
        "  reshape = Reshape((sequence_length,conf['EMB_DIM'],1))(embedding)\n",
        "\n",
        "  conv_0 = Conv2D(num_filters, (filter_sizes[0], conf['EMB_DIM']),activation=act,kernel_regularizer=regularizers.l2(0.01))(reshape)\n",
        "  conv_1 = Conv2D(num_filters, (filter_sizes[1], conf['EMB_DIM']),activation=act,kernel_regularizer=regularizers.l2(0.01))(reshape)\n",
        "  conv_2 = Conv2D(num_filters, (filter_sizes[2], conf['EMB_DIM']),activation=act,kernel_regularizer=regularizers.l2(0.01))(reshape)\n",
        "\n",
        "\n",
        "  maxpool_0 = MaxPooling2D((sequence_length - filter_sizes[0] + 1, 1), strides=(1,1))(conv_0)\n",
        "  maxpool_1 = MaxPooling2D((sequence_length - filter_sizes[1] + 1, 1), strides=(1,1))(conv_1)\n",
        "  maxpool_2 = MaxPooling2D((sequence_length - filter_sizes[2] + 1, 1), strides=(1,1))(conv_2)\n",
        "\n",
        "  merged_tensor = concatenate([maxpool_0, maxpool_1, maxpool_2], axis=1)\n",
        "  # merged_tensor = concatenate([maxpool_0, maxpool_1], axis=1)\n",
        "  flatten = Flatten()(merged_tensor)\n",
        "  reshape = Reshape((3*num_filters,))(flatten)\n",
        "  dropout = Dropout(drop)(flatten)\n",
        "  output = Dense(units=5, activation='softmax',kernel_regularizer=regularizers.l2(0.01))(dropout)\n",
        "  # this creates a model that includes\n",
        "  return Model(inputs, output)"
      ],
      "execution_count": 0,
      "outputs": []
    },
    {
      "cell_type": "code",
      "metadata": {
        "id": "8YUOMZQQ8uxI",
        "colab_type": "code",
        "colab": {
          "base_uri": "https://localhost:8080/",
          "height": 224
        },
        "outputId": "3acfd589-a4f2-48a3-da71-3d31e82a5b07"
      },
      "source": [
        "model = cnnModel(conf['activationType'])"
      ],
      "execution_count": 13,
      "outputs": [
        {
          "output_type": "stream",
          "text": [
            "WARNING:tensorflow:From /usr/local/lib/python3.6/dist-packages/keras/backend/tensorflow_backend.py:541: The name tf.placeholder is deprecated. Please use tf.compat.v1.placeholder instead.\n",
            "\n",
            "WARNING:tensorflow:From /usr/local/lib/python3.6/dist-packages/keras/backend/tensorflow_backend.py:4432: The name tf.random_uniform is deprecated. Please use tf.random.uniform instead.\n",
            "\n",
            "WARNING:tensorflow:From /usr/local/lib/python3.6/dist-packages/keras/backend/tensorflow_backend.py:4267: The name tf.nn.max_pool is deprecated. Please use tf.nn.max_pool2d instead.\n",
            "\n",
            "WARNING:tensorflow:From /usr/local/lib/python3.6/dist-packages/keras/backend/tensorflow_backend.py:148: The name tf.placeholder_with_default is deprecated. Please use tf.compat.v1.placeholder_with_default instead.\n",
            "\n",
            "WARNING:tensorflow:From /usr/local/lib/python3.6/dist-packages/keras/backend/tensorflow_backend.py:3733: calling dropout (from tensorflow.python.ops.nn_ops) with keep_prob is deprecated and will be removed in a future version.\n",
            "Instructions for updating:\n",
            "Please use `rate` instead of `keep_prob`. Rate should be set to `rate = 1 - keep_prob`.\n"
          ],
          "name": "stdout"
        }
      ]
    },
    {
      "cell_type": "code",
      "metadata": {
        "id": "nosTqK7JeAJc",
        "colab_type": "code",
        "outputId": "785fb5a6-3de2-4b0c-fb8e-9198d927f186",
        "colab": {
          "base_uri": "https://localhost:8080/",
          "height": 85
        }
      },
      "source": [
        "def recall_m(y_true, y_pred):\n",
        "    tp = K.sum(K.round(K.clip(y_true * y_pred, 0, 1)))\n",
        "    possible_positives = K.sum(K.round(K.clip(y_true, 0, 1)))\n",
        "    recall = tp / (possible_positives + K.epsilon())\n",
        "    return recall\n",
        "\n",
        "def p_m(y_true, y_pred):\n",
        "    tp = K.sum(K.round(K.clip(y_true * y_pred, 0, 1)))\n",
        "    predicted_positives = K.sum(K.round(K.clip(y_pred, 0, 1)))\n",
        "    precision = tp / (predicted_positives + K.epsilon())\n",
        "    return precision\n",
        "\n",
        "def f1_m(y_true, y_pred):\n",
        "    precision = p_m(y_true, y_pred)\n",
        "    recall = recall_m(y_true, y_pred)\n",
        "    return 2*((precision*recall)/(precision+recall+K.epsilon()))\n",
        "\n",
        "adam = Adam(lr=1e-3)\n",
        "\n",
        "model.compile(loss='categorical_crossentropy',\n",
        "              optimizer=adam,\n",
        "              metrics=['acc',f1_m,p_m, recall_m])"
      ],
      "execution_count": 14,
      "outputs": [
        {
          "output_type": "stream",
          "text": [
            "WARNING:tensorflow:From /usr/local/lib/python3.6/dist-packages/keras/optimizers.py:793: The name tf.train.Optimizer is deprecated. Please use tf.compat.v1.train.Optimizer instead.\n",
            "\n",
            "WARNING:tensorflow:From /usr/local/lib/python3.6/dist-packages/keras/backend/tensorflow_backend.py:3576: The name tf.log is deprecated. Please use tf.math.log instead.\n",
            "\n"
          ],
          "name": "stdout"
        }
      ]
    },
    {
      "cell_type": "markdown",
      "metadata": {
        "id": "kj94iXg91IWj",
        "colab_type": "text"
      },
      "source": [
        "Traning the Model. Please check training.log for results"
      ]
    },
    {
      "cell_type": "code",
      "metadata": {
        "id": "iJdG9G5F1DeP",
        "colab_type": "code",
        "outputId": "026e25eb-a695-4c38-b401-589c611dfac3",
        "colab": {
          "base_uri": "https://localhost:8080/",
          "height": 119
        }
      },
      "source": [
        "csv_logger = CSVLogger('training.log')\n",
        "\n",
        "dependencies = {\n",
        "     'f1_m': f1_m,\n",
        "     'p_m': p_m,\n",
        "     'recall_m': recall_m,\n",
        "}\n",
        "\n",
        "model.fit(X_train, y_train, nb_epoch=2, batch_size=900, verbose=1, callbacks=[csv_logger], shuffle=True)\n",
        "\n",
        "model.save('my_model.h5') "
      ],
      "execution_count": 23,
      "outputs": [
        {
          "output_type": "stream",
          "text": [
            "/usr/local/lib/python3.6/dist-packages/ipykernel_launcher.py:10: UserWarning: The `nb_epoch` argument in `fit` has been renamed `epochs`.\n",
            "  # Remove the CWD from sys.path while we load stuff.\n"
          ],
          "name": "stderr"
        },
        {
          "output_type": "stream",
          "text": [
            "Epoch 1/2\n",
            "109242/109242 [==============================] - 6s 52us/step - loss: 0.5354 - acc: 0.8218 - f1_m: 0.8202 - p_m: 0.8385 - recall_m: 0.8026\n",
            "Epoch 2/2\n",
            "109242/109242 [==============================] - 5s 49us/step - loss: 0.5329 - acc: 0.8237 - f1_m: 0.8217 - p_m: 0.8399 - recall_m: 0.8042\n"
          ],
          "name": "stdout"
        }
      ]
    },
    {
      "cell_type": "code",
      "metadata": {
        "id": "3ohUkB0MZVEh",
        "colab_type": "code",
        "outputId": "7c039027-3fb2-4d12-ba18-6fa0f0c2a89b",
        "colab": {
          "base_uri": "https://localhost:8080/",
          "height": 102
        }
      },
      "source": [
        "# evaluate the model\n",
        "loss, accuracy, f1_score, precision, recall = model.evaluate(X_val, y_val, verbose=1)\n",
        "print('accuracy',accuracy)\n",
        "print('f1_score',f1_score)\n",
        "print('precision',precision)\n",
        "print('recall',recall)"
      ],
      "execution_count": 24,
      "outputs": [
        {
          "output_type": "stream",
          "text": [
            "46818/46818 [==============================] - 6s 120us/step\n",
            "accuracy 0.6439830834294502\n",
            "f1_score 0.6406792494975607\n",
            "precision 0.653772721210535\n",
            "recall 0.6285189457046435\n"
          ],
          "name": "stdout"
        }
      ]
    }
  ]
}